{
  "nbformat": 4,
  "nbformat_minor": 0,
  "metadata": {
    "colab": {
      "name": "Deploy Models Using TensorFlow Serving.ipynb",
      "provenance": [],
      "toc_visible": true,
      "include_colab_link": true
    },
    "kernelspec": {
      "name": "python2",
      "display_name": "Python 2"
    },
    "accelerator": "GPU"
  },
  "cells": [
    {
      "cell_type": "markdown",
      "metadata": {
        "id": "view-in-github",
        "colab_type": "text"
      },
      "source": [
        "<a href=\"https://colab.research.google.com/github/akashnkj/100-days-of-machine-learning/blob/main/Deploy_Models_Using_TensorFlow_Serving.ipynb\" target=\"_parent\"><img src=\"https://colab.research.google.com/assets/colab-badge.svg\" alt=\"Open In Colab\"/></a>"
      ]
    },
    {
      "cell_type": "markdown",
      "metadata": {
        "id": "o6kbTEHsgaRb"
      },
      "source": [
        "# STEP #0: PROBLEM STATEMENT"
      ]
    },
    {
      "cell_type": "markdown",
      "metadata": {
        "id": "o74UO-LQgeIj"
      },
      "source": [
        "- In this project, we will build, train and test a model to classify fashion items using TensorFlow 2.0 similar to what we have already done in the past\n",
        "- What's new is that we are going to deploy the model in practice using Tensorflow Serving.\n",
        "- Fashion training set consists of 70,000 images divided into 60,000 training and 10,000 testing samples. Dataset sample consists of 28x28 grayscale image, associated with a label from 10 classes.\n",
        "\n",
        "- The 10 classes are as follows:  \n",
        "  - 0 => T-shirt/top\n",
        "  - 1 => Trouser\n",
        "  - 2 => Pullover\n",
        "  - 3 => Dress\n",
        "  - 4 => Coat\n",
        "  - 5 => Sandal\n",
        "  - 6 => Shirt\n",
        "  - 7 => Sneaker\n",
        "  - 8 => Bag\n",
        "  - 9 => Ankle boot\n",
        "\n",
        "- Each image is 28 pixels in height and 28 pixels in width, for a total of 784 pixels in total. Each pixel has a single pixel-value associated with it, indicating the lightness or darkness of that pixel, with higher numbers meaning darker. This pixel-value is an integer between 0 and 255.\n",
        "\n",
        "- Note: TF serving code section is based upon the TensorFlow 2.0 Documentation: https://www.tensorflow.org/tfx/serving/tutorials/Serving_REST_simple"
      ]
    },
    {
      "cell_type": "markdown",
      "metadata": {
        "id": "yCrzPgLp7W1h"
      },
      "source": [
        "## STEP #1: IMPORT PACKAGES"
      ]
    },
    {
      "cell_type": "code",
      "metadata": {
        "id": "JH6B6mQBgHT1"
      },
      "source": [
        "import tensorflow as tf\n",
        "import random\n",
        "import json\n",
        "import numpy as np\n",
        "import matplotlib.pyplot as plt\n",
        "import os\n",
        "import tempfile\n"
      ],
      "execution_count": 1,
      "outputs": []
    },
    {
      "cell_type": "markdown",
      "metadata": {
        "id": "x1ly9iCehER1"
      },
      "source": [
        "# STEP #2: IMPORT DATASET"
      ]
    },
    {
      "cell_type": "code",
      "metadata": {
        "id": "FbhfksXVg44A",
        "colab": {
          "base_uri": "https://localhost:8080/",
          "height": 204
        },
        "outputId": "d9fec8ed-ef04-4e49-e708-c240f52b2837"
      },
      "source": [
        "# import Fashion MNIST Dataset using Keras\n",
        "(X_train, y_train), (X_test, y_test) = tf.keras.datasets.fashion_mnist.load_data()"
      ],
      "execution_count": null,
      "outputs": [
        {
          "output_type": "stream",
          "text": [
            "Downloading data from https://storage.googleapis.com/tensorflow/tf-keras-datasets/train-labels-idx1-ubyte.gz\n",
            "32768/29515 [=================================] - 0s 0us/step\n",
            "40960/29515 [=========================================] - 0s 0us/step\n",
            "Downloading data from https://storage.googleapis.com/tensorflow/tf-keras-datasets/train-images-idx3-ubyte.gz\n",
            "26427392/26421880 [==============================] - 0s 0us/step\n",
            "26435584/26421880 [==============================] - 0s 0us/step\n",
            "Downloading data from https://storage.googleapis.com/tensorflow/tf-keras-datasets/t10k-labels-idx1-ubyte.gz\n",
            "16384/5148 [===============================================================================================] - 0s 0us/step\n",
            "Downloading data from https://storage.googleapis.com/tensorflow/tf-keras-datasets/t10k-images-idx3-ubyte.gz\n",
            "4423680/4422102 [==============================] - 0s 0us/step\n",
            "4431872/4422102 [==============================] - 0s 0us/step\n"
          ],
          "name": "stdout"
        }
      ]
    },
    {
      "cell_type": "code",
      "metadata": {
        "id": "Wiq4GQLKhLbe"
      },
      "source": [
        "# Data Normalization -> Between 0 and 1\n",
        "X_train = X_train / 255.0\n",
        "X_test = X_test / 255.0\n"
      ],
      "execution_count": null,
      "outputs": []
    },
    {
      "cell_type": "code",
      "metadata": {
        "id": "msBye7EfxgI1",
        "outputId": "90bfd226-946b-4f44-8fff-4645e870e55e",
        "colab": {
          "base_uri": "https://localhost:8080/",
          "height": 34
        }
      },
      "source": [
        "X_train.shape"
      ],
      "execution_count": null,
      "outputs": [
        {
          "output_type": "execute_result",
          "data": {
            "text/plain": [
              "(60000, 28, 28)"
            ]
          },
          "metadata": {
            "tags": []
          },
          "execution_count": 4
        }
      ]
    },
    {
      "cell_type": "code",
      "metadata": {
        "id": "vVrtMMCgxnka",
        "outputId": "4598fc10-e4a3-4fbb-9e40-e41ea4bcbe64",
        "colab": {
          "base_uri": "https://localhost:8080/",
          "height": 34
        }
      },
      "source": [
        "X_test.shape"
      ],
      "execution_count": null,
      "outputs": [
        {
          "output_type": "execute_result",
          "data": {
            "text/plain": [
              "(10000, 28, 28)"
            ]
          },
          "metadata": {
            "tags": []
          },
          "execution_count": 5
        }
      ]
    },
    {
      "cell_type": "code",
      "metadata": {
        "id": "P1HUwLz3hMak"
      },
      "source": [
        "# Reshape training data to be = (60000, 28, 28, 1) instead of (60000, 28,28)\n",
        "X_train = X_train.reshape(X_train.shape[0], 28, 28, 1)\n"
      ],
      "execution_count": null,
      "outputs": []
    },
    {
      "cell_type": "code",
      "metadata": {
        "id": "p9c_5Z2SyBuJ",
        "outputId": "c2764c35-94ed-4ff3-dae2-b128df9981ad",
        "colab": {
          "base_uri": "https://localhost:8080/",
          "height": 34
        }
      },
      "source": [
        "X_train.shape"
      ],
      "execution_count": null,
      "outputs": [
        {
          "output_type": "execute_result",
          "data": {
            "text/plain": [
              "(60000, 28, 28, 1)"
            ]
          },
          "metadata": {
            "tags": []
          },
          "execution_count": 8
        }
      ]
    },
    {
      "cell_type": "code",
      "metadata": {
        "id": "3Lh3TY_Jx6tt"
      },
      "source": [
        "# Do the same for the testing dataset\n",
        "X_test = X_test.reshape(X_test.shape[0], 28, 28, 1)"
      ],
      "execution_count": null,
      "outputs": []
    },
    {
      "cell_type": "code",
      "metadata": {
        "id": "-UUp6ROshioF",
        "outputId": "b7156210-9f93-4a84-efad-fbdc4d80dffa",
        "colab": {
          "base_uri": "https://localhost:8080/",
          "height": 34
        }
      },
      "source": [
        "X_test.shape"
      ],
      "execution_count": null,
      "outputs": [
        {
          "output_type": "execute_result",
          "data": {
            "text/plain": [
              "(10000, 28, 28, 1)"
            ]
          },
          "metadata": {
            "tags": []
          },
          "execution_count": 10
        }
      ]
    },
    {
      "cell_type": "code",
      "metadata": {
        "id": "dvS-P-24hh8X"
      },
      "source": [
        "\n",
        "class_names = ['T-shirt/top', 'Trouser', 'Pullover', 'Dress', 'Coat',\n",
        "               'Sandal', 'Shirt', 'Sneaker', 'Bag', 'Ankle boot']\n"
      ],
      "execution_count": null,
      "outputs": []
    },
    {
      "cell_type": "code",
      "metadata": {
        "id": "fi5_V_ZKzrSx",
        "outputId": "626cb865-fc7f-4a6a-f697-863ff532d04b",
        "colab": {
          "base_uri": "https://localhost:8080/",
          "height": 34
        }
      },
      "source": [
        "len(X_train)"
      ],
      "execution_count": null,
      "outputs": [
        {
          "output_type": "execute_result",
          "data": {
            "text/plain": [
              "60000"
            ]
          },
          "metadata": {
            "tags": []
          },
          "execution_count": 12
        }
      ]
    },
    {
      "cell_type": "code",
      "metadata": {
        "id": "vdOwUT2cy5cX",
        "outputId": "46a964ba-1f71-4c2f-c69e-76fd6eaea975",
        "colab": {
          "base_uri": "https://localhost:8080/",
          "height": 879
        }
      },
      "source": [
        "W_grid = 4\n",
        "L_grid = 4\n",
        "\n",
        "fig, axes = plt.subplots(L_grid, W_grid, figsize = (15, 15))\n",
        "axes = axes.ravel()\n",
        "\n",
        "n_training = len(X_train)\n",
        "\n",
        "for i in np.arange(0, L_grid * W_grid):\n",
        "    index = np.random.randint(0, n_training) # pick a random number\n",
        "    axes[i].imshow(X_train[index].reshape(28,28))\n",
        "    axes[i].set_title(y_train[index])\n",
        "    axes[i].axis('off')\n",
        "\n",
        "plt.subplots_adjust(hspace = 0.4)"
      ],
      "execution_count": null,
      "outputs": [
        {
          "output_type": "display_data",
          "data": {
            "image/png": "[encoded data removed]",
            "text/plain": [
              "<Figure size 1080x1080 with 16 Axes>"
            ]
          },
          "metadata": {
            "tags": []
          }
        }
      ]
    },
    {
      "cell_type": "markdown",
      "metadata": {
        "id": "iU01OdjbhoKJ"
      },
      "source": [
        "# STEP #3: BUILD, TRAIN AND TEST THE MODEL"
      ]
    },
    {
      "cell_type": "code",
      "metadata": {
        "id": "7Sx9lFlIht6W",
        "outputId": "720a4ada-281d-4b2f-b81f-b083a49bedb5",
        "colab": {
          "base_uri": "https://localhost:8080/",
          "height": 445
        }
      },
      "source": [
        "cnn = tf.keras.models.Sequential()\n",
        "\n",
        "cnn.add(tf.keras.layers.Conv2D(32, (3,3), activation = 'relu', input_shape = (28,28,1)))\n",
        "cnn.add(tf.keras.layers.MaxPooling2D(2,2))\n",
        "\n",
        "cnn.add(tf.keras.layers.Conv2D(64, (3, 3), activation='relu'))\n",
        "\n",
        "cnn.add(tf.keras.layers.Flatten())\n",
        "\n",
        "cnn.add(tf.keras.layers.Dense(64, activation = 'relu'))\n",
        "\n",
        "cnn.add(tf.keras.layers.Dense(10, activation = 'softmax'))\n",
        "cnn.summary()"
      ],
      "execution_count": null,
      "outputs": [
        {
          "output_type": "stream",
          "text": [
            "WARNING: Logging before flag parsing goes to stderr.\n",
            "W1114 04:04:14.789962 140336054617984 deprecation.py:506] From /usr/local/lib/python2.7/dist-packages/tensorflow_core/python/ops/resource_variable_ops.py:1630: calling __init__ (from tensorflow.python.ops.resource_variable_ops) with constraint is deprecated and will be removed in a future version.\n",
            "Instructions for updating:\n",
            "If using Keras pass *_constraint arguments to layers.\n"
          ],
          "name": "stderr"
        },
        {
          "output_type": "stream",
          "text": [
            "Model: \"sequential\"\n",
            "_________________________________________________________________\n",
            "Layer (type)                 Output Shape              Param #   \n",
            "=================================================================\n",
            "conv2d (Conv2D)              (None, 26, 26, 32)        320       \n",
            "_________________________________________________________________\n",
            "max_pooling2d (MaxPooling2D) (None, 13, 13, 32)        0         \n",
            "_________________________________________________________________\n",
            "conv2d_1 (Conv2D)            (None, 11, 11, 64)        18496     \n",
            "_________________________________________________________________\n",
            "flatten (Flatten)            (None, 7744)              0         \n",
            "_________________________________________________________________\n",
            "dense (Dense)                (None, 64)                495680    \n",
            "_________________________________________________________________\n",
            "dense_1 (Dense)              (None, 10)                650       \n",
            "=================================================================\n",
            "Total params: 515,146\n",
            "Trainable params: 515,146\n",
            "Non-trainable params: 0\n",
            "_________________________________________________________________\n"
          ],
          "name": "stdout"
        }
      ]
    },
    {
      "cell_type": "code",
      "metadata": {
        "id": "TeRGYB-khwFA"
      },
      "source": [
        "epochs = 5\n",
        "\n",
        "cnn.compile(optimizer=tf.train.AdamOptimizer(),\n",
        "              loss='sparse_categorical_crossentropy',\n",
        "              metrics=['accuracy'])\n"
      ],
      "execution_count": null,
      "outputs": []
    },
    {
      "cell_type": "code",
      "metadata": {
        "id": "m1eDzfqih2FY",
        "outputId": "9ca5f753-2f13-45fa-fab4-6ec5beb4cc77",
        "colab": {
          "base_uri": "https://localhost:8080/",
          "height": 255
        }
      },
      "source": [
        "cnn.fit(X_train, y_train, epochs=epochs)\n",
        "\n",
        "test_loss, test_acc = cnn.evaluate(X_test, y_test)\n",
        "print('\\nTest accuracy: {}'.format(test_acc))"
      ],
      "execution_count": null,
      "outputs": [
        {
          "output_type": "stream",
          "text": [
            "Train on 60000 samples\n",
            "Epoch 1/5\n",
            "60000/60000 [==============================] - 13s 225us/sample - loss: 0.4134 - acc: 0.8518\n",
            "Epoch 2/5\n",
            "60000/60000 [==============================] - 10s 174us/sample - loss: 0.2704 - acc: 0.9025\n",
            "Epoch 3/5\n",
            "60000/60000 [==============================] - 10s 174us/sample - loss: 0.2219 - acc: 0.9184\n",
            "Epoch 4/5\n",
            "60000/60000 [==============================] - 10s 174us/sample - loss: 0.1864 - acc: 0.9311\n",
            "Epoch 5/5\n",
            "60000/60000 [==============================] - 10s 173us/sample - loss: 0.1565 - acc: 0.9412\n",
            "10000/10000 [==============================] - 1s 99us/sample - loss: 0.2472 - acc: 0.9134\n",
            "\n",
            "Test accuracy: 0.913399994373\n"
          ],
          "name": "stdout"
        }
      ]
    },
    {
      "cell_type": "markdown",
      "metadata": {
        "id": "k-hlIDqfh9oX"
      },
      "source": [
        "# STEP #4: SAVE THE MODEL"
      ]
    },
    {
      "cell_type": "markdown",
      "metadata": {
        "id": "oKGNNXB1iUCB"
      },
      "source": [
        "- We now need to save our trained model and it has to be saved in a SavedModel format.\n",
        "- The model will have a version number and will be saved in a structured directory\n",
        "- tf.saved_model.simple_save is a function used to build a saved model that is suitable for serving using Tensorflow Serving.\n",
        "- After the model is saved, we can now use TensorFlow Serving to start making inference requests using a specific version of our trained model \"servable\".\n",
        "- Use SavedModel to save and load your model—variables, the graph, and the graph's metadata.\n",
        "- This is a language-neutral, recoverable, hermetic serialization format that enables higher-level systems and tools to produce, consume, and transform TensorFlow models.\n",
        "- simple_save offers a very easy way to save a model as follows:\n",
        "\n",
        "  - simple_save(session,\n",
        "            export_dir,\n",
        "            inputs={\"x\": x, \"y\": y},\n",
        "            outputs={\"z\": z})\n",
        "            \n",
        "- Check this out for more information:\n",
        "https://www.tensorflow.org/guide/saved_model"
      ]
    },
    {
      "cell_type": "code",
      "metadata": {
        "id": "wgTRGCqSh9az"
      },
      "source": [
        "# Let's obtain a temporary storage directory\n",
        "MODEL_DIR = tempfile.gettempdir()"
      ],
      "execution_count": null,
      "outputs": []
    },
    {
      "cell_type": "code",
      "metadata": {
        "id": "J7mLmAw3jfNX",
        "outputId": "6be36fee-8609-4ca3-a16b-b7cffa37d11f",
        "colab": {
          "base_uri": "https://localhost:8080/",
          "height": 34
        }
      },
      "source": [
        "MODEL_DIR"
      ],
      "execution_count": null,
      "outputs": [
        {
          "output_type": "execute_result",
          "data": {
            "text/plain": [
              "'/tmp'"
            ]
          },
          "metadata": {
            "tags": []
          },
          "execution_count": 18
        }
      ]
    },
    {
      "cell_type": "code",
      "metadata": {
        "id": "lOkq8bMejgHX"
      },
      "source": [
        "# Let's specify the model version, choose #1 for now\n",
        "version = 1"
      ],
      "execution_count": null,
      "outputs": []
    },
    {
      "cell_type": "code",
      "metadata": {
        "id": "JCyIxt7Xj43C",
        "outputId": "0c4a48e0-391f-4419-b65c-eab1093445ff",
        "colab": {
          "base_uri": "https://localhost:8080/",
          "height": 51
        }
      },
      "source": [
        "# Let's join the temp model directory with our chosen version number\n",
        "# The expected result will be = '\\tmp\\version number'\n",
        "export_path = os.path.join(MODEL_DIR, str(version))\n",
        "print('export_path = {}\\n'.format(export_path))"
      ],
      "execution_count": null,
      "outputs": [
        {
          "output_type": "stream",
          "text": [
            "export_path = /tmp/1\n",
            "\n"
          ],
          "name": "stdout"
        }
      ]
    },
    {
      "cell_type": "code",
      "metadata": {
        "id": "raMbK1M7j8Yh",
        "outputId": "6bcee7cf-6baf-4ee4-a24d-db2261210f94",
        "colab": {
          "base_uri": "https://localhost:8080/",
          "height": 139
        }
      },
      "source": [
        "# Let's save the model using simple_save\n",
        "# If the directory already exists, we will remove it using '!rm'\n",
        "# rm removes each file specified on the command line.\n",
        "\n",
        "if os.path.isdir(export_path):\n",
        "  print('\\nAlready saved a model, cleaning up\\n')\n",
        "  !rm -r {export_path}\n",
        "\n",
        "tf.saved_model.simple_save(\n",
        "    tf.keras.backend.get_session(),\n",
        "    export_path,\n",
        "    inputs={'input_image': cnn.input},\n",
        "    outputs={t.name:t for t in cnn.outputs})\n"
      ],
      "execution_count": null,
      "outputs": [
        {
          "output_type": "stream",
          "text": [
            "W1114 04:14:11.676297 140336054617984 deprecation.py:323] From <ipython-input-21-d131386b50f9>:10: simple_save (from tensorflow.python.saved_model.simple_save) is deprecated and will be removed in a future version.\n",
            "Instructions for updating:\n",
            "This function will only be available through the v1 compatibility library as tf.compat.v1.saved_model.simple_save.\n",
            "W1114 04:14:11.678277 140336054617984 deprecation.py:323] From /usr/local/lib/python2.7/dist-packages/tensorflow_core/python/saved_model/signature_def_utils_impl.py:201: build_tensor_info (from tensorflow.python.saved_model.utils_impl) is deprecated and will be removed in a future version.\n",
            "Instructions for updating:\n",
            "This function will only be available through the v1 compatibility library as tf.compat.v1.saved_model.utils.build_tensor_info or tf.compat.v1.saved_model.build_tensor_info.\n"
          ],
          "name": "stderr"
        }
      ]
    },
    {
      "cell_type": "code",
      "metadata": {
        "id": "OUnZKrFUqGel",
        "outputId": "89fd12a9-ba14-4040-f61a-6d37ae075749",
        "colab": {
          "base_uri": "https://localhost:8080/",
          "height": 68
        }
      },
      "source": [
        "!ls -l {export_path}"
      ],
      "execution_count": null,
      "outputs": [
        {
          "output_type": "stream",
          "text": [
            "total 100\n",
            "-rw-r--r-- 1 root root 97603 Nov 14 04:14 saved_model.pb\n",
            "drwxr-xr-x 2 root root  4096 Nov 14 04:14 variables\n"
          ],
          "name": "stdout"
        }
      ]
    },
    {
      "cell_type": "markdown",
      "metadata": {
        "id": "29Pe_MdvosVq"
      },
      "source": [
        "# STEP #5: EXPLORE OUR SAVED MODEL"
      ]
    },
    {
      "cell_type": "markdown",
      "metadata": {
        "id": "2VcYU9ZlowoB"
      },
      "source": [
        "- saved_model_cli will be used to explore MetaGraphDefs (the models) and SignatureDefs (the methods you can call) in our SavedModel.\n",
        "- A MetaGraph is a dataflow graph, plus its associated variables, assets, and signatures.\n",
        "- A signature is the set of inputs to and outputs from a graph."
      ]
    },
    {
      "cell_type": "code",
      "metadata": {
        "id": "SEHscgCMkovz",
        "outputId": "16be3369-1a1a-43de-c592-614ee6b16d8a",
        "colab": {
          "base_uri": "https://localhost:8080/",
          "height": 272
        }
      },
      "source": [
        "# Now we can view our saved model\n",
        "!saved_model_cli show --dir {export_path} --all"
      ],
      "execution_count": null,
      "outputs": [
        {
          "output_type": "stream",
          "text": [
            "\n",
            "MetaGraphDef with tag-set: 'serve' contains the following SignatureDefs:\n",
            "\n",
            "signature_def['serving_default']:\n",
            "  The given SavedModel SignatureDef contains the following input(s):\n",
            "    inputs['input_image'] tensor_info:\n",
            "        dtype: DT_FLOAT\n",
            "        shape: (-1, 28, 28, 1)\n",
            "        name: conv2d_input:0\n",
            "  The given SavedModel SignatureDef contains the following output(s):\n",
            "    outputs['dense_1/Softmax:0'] tensor_info:\n",
            "        dtype: DT_FLOAT\n",
            "        shape: (-1, 10)\n",
            "        name: dense_1/Softmax:0\n",
            "  Method name is: tensorflow/serving/predict\n"
          ],
          "name": "stdout"
        }
      ]
    },
    {
      "cell_type": "markdown",
      "metadata": {
        "id": "dcgj7TWAlkIA"
      },
      "source": [
        "# STEP #6: SERVE THE MODEL USING TENSORFLOW SERVING"
      ]
    },
    {
      "cell_type": "markdown",
      "metadata": {
        "id": "xCEZ9lvgln3X"
      },
      "source": [
        "  # STEP 6.1: Let's add tensorflow-model-server package to our list of packages"
      ]
    },
    {
      "cell_type": "code",
      "metadata": {
        "id": "AwjH17Tal2jv",
        "outputId": "9fcf402f-c45e-4749-91c1-272348ba1b62",
        "colab": {
          "base_uri": "https://localhost:8080/",
          "height": 612
        }
      },
      "source": [
        "!echo \"deb http://storage.googleapis.com/tensorflow-serving-apt stable tensorflow-model-server tensorflow-model-server-universal\" | tee /etc/apt/sources.list.d/tensorflow-serving.list && \\\n",
        "curl https://storage.googleapis.com/tensorflow-serving-apt/tensorflow-serving.release.pub.gpg | apt-key add -\n",
        "!apt update"
      ],
      "execution_count": null,
      "outputs": [
        {
          "output_type": "stream",
          "text": [
            "deb http://storage.googleapis.com/tensorflow-serving-apt stable tensorflow-model-server tensorflow-model-server-universal\n",
            "  % Total    % Received % Xferd  Average Speed   Time    Time     Time  Current\n",
            "                                 Dload  Upload   Total   Spent    Left  Speed\n",
            "100  2943  100  2943    0     0  39770      0 --:--:-- --:--:-- --:--:-- 39770\n",
            "OK\n",
            "Get:1 http://storage.googleapis.com/tensorflow-serving-apt stable InRelease [3,012 B]\n",
            "Ign:2 https://developer.download.nvidia.com/compute/cuda/repos/ubuntu1804/x86_64  InRelease\n",
            "Ign:3 https://developer.download.nvidia.com/compute/machine-learning/repos/ubuntu1804/x86_64  InRelease\n",
            "Hit:4 https://developer.download.nvidia.com/compute/cuda/repos/ubuntu1804/x86_64  Release\n",
            "Hit:5 http://ppa.launchpad.net/graphics-drivers/ppa/ubuntu bionic InRelease\n",
            "Get:6 http://storage.googleapis.com/tensorflow-serving-apt stable/tensorflow-model-server amd64 Packages [354 B]\n",
            "Hit:7 https://developer.download.nvidia.com/compute/machine-learning/repos/ubuntu1804/x86_64  Release\n",
            "Hit:8 http://archive.ubuntu.com/ubuntu bionic InRelease\n",
            "Get:9 http://storage.googleapis.com/tensorflow-serving-apt stable/tensorflow-model-server-universal amd64 Packages [364 B]\n",
            "Get:10 http://security.ubuntu.com/ubuntu bionic-security InRelease [88.7 kB]\n",
            "Get:12 http://ppa.launchpad.net/marutter/c2d4u3.5/ubuntu bionic InRelease [15.4 kB]\n",
            "Get:13 https://cloud.r-project.org/bin/linux/ubuntu bionic-cran35/ InRelease [3,626 B]\n",
            "Get:14 http://archive.ubuntu.com/ubuntu bionic-updates InRelease [88.7 kB]\n",
            "Get:16 http://archive.ubuntu.com/ubuntu bionic-backports InRelease [74.6 kB]\n",
            "Get:17 http://ppa.launchpad.net/marutter/c2d4u3.5/ubuntu bionic/main Sources [1,720 kB]\n",
            "Get:18 https://cloud.r-project.org/bin/linux/ubuntu bionic-cran35/ Packages [74.3 kB]\n",
            "Get:19 http://security.ubuntu.com/ubuntu bionic-security/main amd64 Packages [734 kB]\n",
            "Get:20 http://archive.ubuntu.com/ubuntu bionic-updates/main amd64 Packages [1,030 kB]\n",
            "Get:21 http://ppa.launchpad.net/marutter/c2d4u3.5/ubuntu bionic/main amd64 Packages [828 kB]\n",
            "Get:22 http://security.ubuntu.com/ubuntu bionic-security/multiverse amd64 Packages [6,508 B]\n",
            "Get:23 http://security.ubuntu.com/ubuntu bionic-security/restricted amd64 Packages [16.8 kB]\n",
            "Get:24 http://archive.ubuntu.com/ubuntu bionic-updates/universe amd64 Packages [1,312 kB]\n",
            "Get:25 http://security.ubuntu.com/ubuntu bionic-security/universe amd64 Packages [785 kB]\n",
            "Get:26 http://archive.ubuntu.com/ubuntu bionic-updates/restricted amd64 Packages [29.9 kB]\n",
            "Get:27 http://archive.ubuntu.com/ubuntu bionic-updates/multiverse amd64 Packages [9,578 B]\n",
            "Fetched 6,821 kB in 4s (1,778 kB/s)\n",
            "Reading package lists... Done\n",
            "Building dependency tree       \n",
            "Reading state information... Done\n",
            "78 packages can be upgraded. Run 'apt list --upgradable' to see them.\n"
          ],
          "name": "stdout"
        }
      ]
    },
    {
      "cell_type": "markdown",
      "metadata": {
        "id": "r0rJEorwuNK_"
      },
      "source": [
        "# Step 6.2: Let's install tensorflow model server:"
      ]
    },
    {
      "cell_type": "code",
      "metadata": {
        "id": "TJ3t-7_huGn0",
        "outputId": "dd0a5996-aa7e-48e8-f6e8-29cdc70339dc",
        "colab": {
          "base_uri": "https://localhost:8080/",
          "height": 272
        }
      },
      "source": [
        "!apt-get install tensorflow-model-server"
      ],
      "execution_count": null,
      "outputs": [
        {
          "output_type": "stream",
          "text": [
            "Reading package lists... Done\n",
            "Building dependency tree       \n",
            "Reading state information... Done\n",
            "The following NEW packages will be installed:\n",
            "  tensorflow-model-server\n",
            "0 upgraded, 1 newly installed, 0 to remove and 78 not upgraded.\n",
            "Need to get 140 MB of archives.\n",
            "After this operation, 0 B of additional disk space will be used.\n",
            "Get:1 http://storage.googleapis.com/tensorflow-serving-apt stable/tensorflow-model-server amd64 tensorflow-model-server all 2.0.0 [140 MB]\n",
            "Fetched 140 MB in 2s (69.2 MB/s)\n",
            "Selecting previously unselected package tensorflow-model-server.\n",
            "(Reading database ... 132684 files and directories currently installed.)\n",
            "Preparing to unpack .../tensorflow-model-server_2.0.0_all.deb ...\n",
            "Unpacking tensorflow-model-server (2.0.0) ...\n",
            "Setting up tensorflow-model-server (2.0.0) ...\n"
          ],
          "name": "stdout"
        }
      ]
    },
    {
      "cell_type": "markdown",
      "metadata": {
        "id": "YQZtl38Jy-pg"
      },
      "source": [
        "# Step 6.3: Let's run TensorFlow serving"
      ]
    },
    {
      "cell_type": "markdown",
      "metadata": {
        "id": "BR8CQlZBuacO"
      },
      "source": [
        "- We will load our model and start making inferences (predictions) based on it.\n",
        "- There are some important parameters:\n",
        "\n",
        "  - rest_api_port: The port that you'll use for REST requests.\n",
        "  - model_name: You'll use this in the URL of REST requests. You can choose any name\n",
        "  - model_base_path: This is the path to the directory where you've saved your model.\n",
        "  \n",
        "- For more information regarding REST, check this out:\n",
        "https://www.codecademy.com/articles/what-is-rest\n",
        "- REST is a revival of HTTP in which http commands have semantic meaning."
      ]
    },
    {
      "cell_type": "code",
      "metadata": {
        "id": "nQO-ysCMuU5L"
      },
      "source": [
        "os.environ[\"MODEL_DIR\"] = MODEL_DIR"
      ],
      "execution_count": null,
      "outputs": []
    },
    {
      "cell_type": "code",
      "metadata": {
        "id": "c_aqNwe2x4G9",
        "outputId": "0444c926-0eb6-48e5-fda4-d5d6f521da90",
        "colab": {
          "base_uri": "https://localhost:8080/",
          "height": 34
        }
      },
      "source": [
        "%%bash --bg\n",
        "nohup tensorflow_model_server \\\n",
        "  --rest_api_port=8501 \\\n",
        "  --model_name=fashion_model \\\n",
        "  --model_base_path=\"${MODEL_DIR}\" >server.log 2>&1\n"
      ],
      "execution_count": null,
      "outputs": [
        {
          "output_type": "stream",
          "text": [
            "Starting job # 0 in a separate thread.\n"
          ],
          "name": "stdout"
        }
      ]
    },
    {
      "cell_type": "code",
      "metadata": {
        "id": "1c9MjQK_x46N",
        "outputId": "75798e7c-8e82-46a4-8bb7-047c4cb2a0f2",
        "colab": {
          "base_uri": "https://localhost:8080/",
          "height": 207
        }
      },
      "source": [
        "!tail server.log"
      ],
      "execution_count": null,
      "outputs": [
        {
          "output_type": "stream",
          "text": [
            "2019-11-14 04:18:24.087957: I external/org_tensorflow/tensorflow/cc/saved_model/reader.cc:54] Reading meta graph with tags { serve }\n",
            "2019-11-14 04:18:24.089500: I external/org_tensorflow/tensorflow/core/platform/cpu_feature_guard.cc:142] Your CPU supports instructions that this TensorFlow binary was not compiled to use: AVX2 FMA\n",
            "2019-11-14 04:18:24.103356: I external/org_tensorflow/tensorflow/cc/saved_model/loader.cc:202] Restoring SavedModel bundle.\n",
            "2019-11-14 04:18:24.127960: I external/org_tensorflow/tensorflow/cc/saved_model/loader.cc:311] SavedModel load for tags { serve }; Status: success. Took 41568 microseconds.\n",
            "2019-11-14 04:18:24.128545: I tensorflow_serving/servables/tensorflow/saved_model_warmup.cc:105] No warmup data file found at /tmp/1/assets.extra/tf_serving_warmup_requests\n",
            "2019-11-14 04:18:24.128635: I tensorflow_serving/core/loader_harness.cc:87] Successfully loaded servable version {name: fashion_model version: 1}\n",
            "2019-11-14 04:18:24.129809: I tensorflow_serving/model_servers/server.cc:353] Running gRPC ModelServer at 0.0.0.0:8500 ...\n",
            "[warn] getaddrinfo: address family for nodename not supported\n",
            "2019-11-14 04:18:24.130714: I tensorflow_serving/model_servers/server.cc:373] Exporting HTTP/REST API at:localhost:8501 ...\n",
            "[evhttp_server.cc : 238] NET_LOG: Entering the event loop ...\n"
          ],
          "name": "stdout"
        }
      ]
    },
    {
      "cell_type": "markdown",
      "metadata": {
        "id": "Yyts_cHHzlEE"
      },
      "source": [
        "- **Congratulations! now we have successfully loaded a servable version of our model {name: fashion_model version: 1}**"
      ]
    },
    {
      "cell_type": "markdown",
      "metadata": {
        "id": "NuaqxuY8zW-X"
      },
      "source": [
        "# STEP 6.4: Let's start making requests in TensorFlow Serving"
      ]
    },
    {
      "cell_type": "code",
      "metadata": {
        "id": "Z96PlewJyI7N"
      },
      "source": [
        "def show(idx, title):\n",
        "  plt.figure()\n",
        "  plt.imshow(X_test[idx].reshape(28,28))\n",
        "  plt.title('\\n\\n{}'.format(title), fontdict={'size': 16})\n"
      ],
      "execution_count": null,
      "outputs": []
    },
    {
      "cell_type": "code",
      "metadata": {
        "id": "BVzkMzX5zo6I",
        "outputId": "72be0e14-da71-40ca-a7a7-bdcf434b647c",
        "colab": {
          "base_uri": "https://localhost:8080/",
          "height": 318
        }
      },
      "source": [
        "rando = random.randint(0,len(X_test)-1)\n",
        "show(rando, 'An Example Image: {}'.format(class_names[y_test[rando]]))"
      ],
      "execution_count": null,
      "outputs": [
        {
          "output_type": "display_data",
          "data": {
            "image/png": "[encoded data removed]",
            "text/plain": [
              "<Figure size 432x288 with 1 Axes>"
            ]
          },
          "metadata": {
            "tags": []
          }
        }
      ]
    },
    {
      "cell_type": "code",
      "metadata": {
        "id": "OOANMKEPzvGj",
        "outputId": "0eb4315a-14ff-4405-88e0-47d17816a24f",
        "colab": {
          "base_uri": "https://localhost:8080/",
          "height": 34
        }
      },
      "source": [
        "# Let's create a JSON object and make 3 inference requests\n",
        "data = json.dumps({\"signature_name\": \"serving_default\", \"instances\": X_test[0:3].tolist()})\n",
        "print('Data: {} ... {}'.format(data[:50], data[len(data)-52:]))"
      ],
      "execution_count": null,
      "outputs": [
        {
          "output_type": "stream",
          "text": [
            "Data: {\"instances\": [[[[0.0], [0.0], [0.0], [0.0], [0.0] ... 0.0], [0.0]]]], \"signature_name\": \"serving_default\"}\n"
          ],
          "name": "stdout"
        }
      ]
    },
    {
      "cell_type": "code",
      "metadata": {
        "id": "bU7MGFsd3xyf"
      },
      "source": [
        "!pip install -q requests\n"
      ],
      "execution_count": null,
      "outputs": []
    },
    {
      "cell_type": "code",
      "metadata": {
        "id": "JC7R3Xp-3PS4"
      },
      "source": [
        "\n",
        "import requests\n"
      ],
      "execution_count": null,
      "outputs": []
    },
    {
      "cell_type": "code",
      "metadata": {
        "id": "TABtyXff31XA"
      },
      "source": [
        "headers = {\"content-type\": \"application/json\"}\n",
        "json_response = requests.post('http://localhost:8501/v1/models/fashion_model:predict', data=data, headers=headers)\n",
        "predictions = json.loads(json_response.text)['predictions']\n"
      ],
      "execution_count": null,
      "outputs": []
    },
    {
      "cell_type": "code",
      "metadata": {
        "id": "WMabmeBJ4AAM",
        "outputId": "ae664fcd-0b33-4a4c-e419-f3a7cb75cba3",
        "colab": {
          "base_uri": "https://localhost:8080/",
          "height": 318
        }
      },
      "source": [
        "\n",
        "show(0, 'The model thought this was a {} (class {}), and it was actually a {} (class {})'.format(\n",
        "  class_names[np.argmax(predictions[0])], y_test[0], class_names[np.argmax(predictions[0])], y_test[0]))"
      ],
      "execution_count": null,
      "outputs": [
        {
          "output_type": "display_data",
          "data": {
            "image/png": "[encoded data removed]",
            "text/plain": [
              "<Figure size 432x288 with 1 Axes>"
            ]
          },
          "metadata": {
            "tags": []
          }
        }
      ]
    },
    {
      "cell_type": "code",
      "metadata": {
        "id": "5kCu7cnB4Az6",
        "outputId": "c8e16441-3ad5-46d4-fd30-657dca0feac6",
        "colab": {
          "base_uri": "https://localhost:8080/",
          "height": 920
        }
      },
      "source": [
        "headers = {\"content-type\": \"application/json\"}\n",
        "json_response = requests.post('http://localhost:8501/v1/models/fashion_model/versions/1:predict', data=data, headers=headers)\n",
        "predictions = json.loads(json_response.text)['predictions']\n",
        "\n",
        "for i in range(0,3):\n",
        "  show(i, 'The model thought this was a {} (class {}), and it was actually a {} (class {})'.format(\n",
        "    class_names[np.argmax(predictions[i])], y_test[i], class_names[np.argmax(predictions[i])], y_test[i]))"
      ],
      "execution_count": null,
      "outputs": [
        {
          "output_type": "display_data",
          "data": {
            "image/png": "[encoded data removed]",
            "text/plain": [
              "<Figure size 432x288 with 1 Axes>"
            ]
          },
          "metadata": {
            "tags": []
          }
        },
        {
          "output_type": "display_data",
          "data": {
            "image/png": "[encoded data removed]",
            "text/plain": [
              "<Figure size 432x288 with 1 Axes>"
            ]
          },
          "metadata": {
            "tags": []
          }
        },
        {
          "output_type": "display_data",
          "data": {
            "image/png": "[encoded data removed]",
            "text/plain": [
              "<Figure size 432x288 with 1 Axes>"
            ]
          },
          "metadata": {
            "tags": []
          }
        }
      ]
    },
    {
      "cell_type": "code",
      "metadata": {
        "id": "BYyQnvahWTWW"
      },
      "source": [],
      "execution_count": null,
      "outputs": []
    }
  ]
}